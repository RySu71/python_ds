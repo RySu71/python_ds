{
 "cells": [
  {
   "cell_type": "markdown",
   "id": "91421d73-c42b-4ea7-adcc-2688ede7cd29",
   "metadata": {},
   "source": [
    "# Death Rates for Suicide\n",
    "- This Dataset and web is going to be about suicides and the correlations between them.\n",
    "- These are aligned with sex, race, origin, and age in the United States\n"
   ]
  },
  {
   "cell_type": "code",
   "execution_count": 2,
   "id": "001e2580-1bd4-4b1d-91de-9cbeb860464d",
   "metadata": {},
   "outputs": [
    {
     "data": {
      "text/html": [
       "<div>\n",
       "<style scoped>\n",
       "    .dataframe tbody tr th:only-of-type {\n",
       "        vertical-align: middle;\n",
       "    }\n",
       "\n",
       "    .dataframe tbody tr th {\n",
       "        vertical-align: top;\n",
       "    }\n",
       "\n",
       "    .dataframe thead th {\n",
       "        text-align: right;\n",
       "    }\n",
       "</style>\n",
       "<table border=\"1\" class=\"dataframe\">\n",
       "  <thead>\n",
       "    <tr style=\"text-align: right;\">\n",
       "      <th></th>\n",
       "      <th>INDICATOR</th>\n",
       "      <th>UNIT</th>\n",
       "      <th>UNIT_NUM</th>\n",
       "      <th>STUB_NAME</th>\n",
       "      <th>STUB_NAME_NUM</th>\n",
       "      <th>STUB_LABEL</th>\n",
       "      <th>STUB_LABEL_NUM</th>\n",
       "      <th>YEAR</th>\n",
       "      <th>YEAR_NUM</th>\n",
       "      <th>AGE</th>\n",
       "      <th>AGE_NUM</th>\n",
       "      <th>ESTIMATE</th>\n",
       "      <th>FLAG</th>\n",
       "    </tr>\n",
       "  </thead>\n",
       "  <tbody>\n",
       "    <tr>\n",
       "      <th>0</th>\n",
       "      <td>Death rates for suicide</td>\n",
       "      <td>Deaths per 100,000 resident population, age-ad...</td>\n",
       "      <td>1</td>\n",
       "      <td>Total</td>\n",
       "      <td>0</td>\n",
       "      <td>All persons</td>\n",
       "      <td>0.0</td>\n",
       "      <td>1950</td>\n",
       "      <td>1</td>\n",
       "      <td>All ages</td>\n",
       "      <td>0.0</td>\n",
       "      <td>13.2</td>\n",
       "      <td>NaN</td>\n",
       "    </tr>\n",
       "    <tr>\n",
       "      <th>1</th>\n",
       "      <td>Death rates for suicide</td>\n",
       "      <td>Deaths per 100,000 resident population, age-ad...</td>\n",
       "      <td>1</td>\n",
       "      <td>Total</td>\n",
       "      <td>0</td>\n",
       "      <td>All persons</td>\n",
       "      <td>0.0</td>\n",
       "      <td>1960</td>\n",
       "      <td>2</td>\n",
       "      <td>All ages</td>\n",
       "      <td>0.0</td>\n",
       "      <td>12.5</td>\n",
       "      <td>NaN</td>\n",
       "    </tr>\n",
       "    <tr>\n",
       "      <th>2</th>\n",
       "      <td>Death rates for suicide</td>\n",
       "      <td>Deaths per 100,000 resident population, age-ad...</td>\n",
       "      <td>1</td>\n",
       "      <td>Total</td>\n",
       "      <td>0</td>\n",
       "      <td>All persons</td>\n",
       "      <td>0.0</td>\n",
       "      <td>1970</td>\n",
       "      <td>3</td>\n",
       "      <td>All ages</td>\n",
       "      <td>0.0</td>\n",
       "      <td>13.1</td>\n",
       "      <td>NaN</td>\n",
       "    </tr>\n",
       "    <tr>\n",
       "      <th>3</th>\n",
       "      <td>Death rates for suicide</td>\n",
       "      <td>Deaths per 100,000 resident population, age-ad...</td>\n",
       "      <td>1</td>\n",
       "      <td>Total</td>\n",
       "      <td>0</td>\n",
       "      <td>All persons</td>\n",
       "      <td>0.0</td>\n",
       "      <td>1980</td>\n",
       "      <td>4</td>\n",
       "      <td>All ages</td>\n",
       "      <td>0.0</td>\n",
       "      <td>12.2</td>\n",
       "      <td>NaN</td>\n",
       "    </tr>\n",
       "    <tr>\n",
       "      <th>4</th>\n",
       "      <td>Death rates for suicide</td>\n",
       "      <td>Deaths per 100,000 resident population, age-ad...</td>\n",
       "      <td>1</td>\n",
       "      <td>Total</td>\n",
       "      <td>0</td>\n",
       "      <td>All persons</td>\n",
       "      <td>0.0</td>\n",
       "      <td>1981</td>\n",
       "      <td>5</td>\n",
       "      <td>All ages</td>\n",
       "      <td>0.0</td>\n",
       "      <td>12.3</td>\n",
       "      <td>NaN</td>\n",
       "    </tr>\n",
       "  </tbody>\n",
       "</table>\n",
       "</div>"
      ],
      "text/plain": [
       "                 INDICATOR                                               UNIT  \\\n",
       "0  Death rates for suicide  Deaths per 100,000 resident population, age-ad...   \n",
       "1  Death rates for suicide  Deaths per 100,000 resident population, age-ad...   \n",
       "2  Death rates for suicide  Deaths per 100,000 resident population, age-ad...   \n",
       "3  Death rates for suicide  Deaths per 100,000 resident population, age-ad...   \n",
       "4  Death rates for suicide  Deaths per 100,000 resident population, age-ad...   \n",
       "\n",
       "   UNIT_NUM STUB_NAME  STUB_NAME_NUM   STUB_LABEL  STUB_LABEL_NUM  YEAR  \\\n",
       "0         1     Total              0  All persons             0.0  1950   \n",
       "1         1     Total              0  All persons             0.0  1960   \n",
       "2         1     Total              0  All persons             0.0  1970   \n",
       "3         1     Total              0  All persons             0.0  1980   \n",
       "4         1     Total              0  All persons             0.0  1981   \n",
       "\n",
       "   YEAR_NUM       AGE  AGE_NUM  ESTIMATE FLAG  \n",
       "0         1  All ages      0.0      13.2  NaN  \n",
       "1         2  All ages      0.0      12.5  NaN  \n",
       "2         3  All ages      0.0      13.1  NaN  \n",
       "3         4  All ages      0.0      12.2  NaN  \n",
       "4         5  All ages      0.0      12.3  NaN  "
      ]
     },
     "execution_count": 2,
     "metadata": {},
     "output_type": "execute_result"
    }
   ],
   "source": [
    "# This data cell is to initialize the Pandas dataframe and check if the table is inputed correctly\n",
    "# Also initializes the matplotlib dataframe for visualization\n",
    "\n",
    "import pandas as pd\n",
    "import matplotlib.pyplot as plt\n",
    "\n",
    "# Load the CSV file\n",
    "df = pd.read_csv('Death_rates_for_suicide__by_sex__race__Hispanic_origin__and_age__United_States.csv')\n",
    "\n",
    "# Display the first few rows to verify\n",
    "df.head()"
   ]
  },
  {
   "cell_type": "markdown",
   "id": "82f4e0ac-76be-45b7-aa03-2e43834aa761",
   "metadata": {},
   "source": [
    "# Exploratory Data Analysis/Visuals\n",
    "- Creating graphs for visualization of the data\n",
    "- Exploring the statistics of the dataset\n",
    "- Understanding the data as code"
   ]
  },
  {
   "cell_type": "code",
   "execution_count": 3,
   "id": "b5d7484d-df2b-444a-835a-eb985d43eeda",
   "metadata": {},
   "outputs": [
    {
     "name": "stdout",
     "output_type": "stream",
     "text": [
      "Average suicide death rate (age-adjusted): 12.11 per 100,000\n",
      "Most recent suicide death rate (2018): 14.20 per 100,000\n",
      "Change from 1950 to 2018: 1.00 per 100,000\n",
      "\n",
      "1950s average: 13.20 per 100,000\n",
      "1960s average: 12.50 per 100,000\n",
      "1970s average: 13.10 per 100,000\n",
      "1980s average: 12.51 per 100,000\n",
      "1990s average: 11.69 per 100,000\n",
      "2000s average: 11.04 per 100,000\n",
      "2010s average: 13.07 per 100,000\n"
     ]
    }
   ],
   "source": [
    "# Checking the total rate of the amount of suicide deaths per all persons in the United States\n",
    "# Checking the 2018 (MOST RECENT) suicide death rate per all persons in the United States\n",
    "# Checking the suicide death rate trend per all persons in the United States\n",
    "\n",
    "total_rates = df[(df['STUB_LABEL'] == 'All persons') & (df['UNIT'] == 'Deaths per 100,000 resident population, age-adjusted')]\n",
    "\n",
    "avg_death_rate = total_rates['ESTIMATE'].mean()\n",
    "\n",
    "latest_year_rate = total_rates[total_rates['YEAR'] == 2018]['ESTIMATE'].values[0]\n",
    "\n",
    "# Calculate the trend (change from 1950 to 2018)\n",
    "initial_rate = total_rates[total_rates['YEAR'] == 1950]['ESTIMATE'].values[0]\n",
    "final_rate = latest_year_rate\n",
    "trend = final_rate - initial_rate\n",
    "\n",
    "# Print results\n",
    "print(f\"Average suicide death rate (age-adjusted): {avg_death_rate:.2f} per 100,000\")\n",
    "print(f\"Most recent suicide death rate (2018): {latest_year_rate:.2f} per 100,000\")\n",
    "print(f\"Change from 1950 to 2018: {trend:.2f} per 100,000\\n\")\n",
    "\n",
    "decades = range(1950, 2020, 10)\n",
    "for decade in decades:\n",
    "    decade_rates = total_rates[(total_rates['YEAR'] >= decade) & (total_rates['YEAR'] < decade+10)]\n",
    "    if not decade_rates.empty:\n",
    "        avg = decade_rates['ESTIMATE'].mean()\n",
    "        print(f\"{decade}s average: {avg:.2f} per 100,000\")"
   ]
  },
  {
   "cell_type": "markdown",
   "id": "f4113b1d-3724-4b1a-8552-b14275afcf71",
   "metadata": {},
   "source": [
    "# Visualizations for the Death Rates\n",
    "- Graphs to visual the data"
   ]
  },
  {
   "cell_type": "code",
   "execution_count": 4,
   "id": "20cd0717-7b6b-4245-8474-02a9bd947175",
   "metadata": {},
   "outputs": [
    {
     "name": "stderr",
     "output_type": "stream",
     "text": [
      "/tmp/ipykernel_28887/3493858781.py:3: SettingWithCopyWarning: \n",
      "A value is trying to be set on a copy of a slice from a DataFrame.\n",
      "Try using .loc[row_indexer,col_indexer] = value instead\n",
      "\n",
      "See the caveats in the documentation: https://pandas.pydata.org/pandas-docs/stable/user_guide/indexing.html#returning-a-view-versus-a-copy\n",
      "  total_rates['DECADE'] = (total_rates['YEAR'] // 10) * 10\n"
     ]
    },
    {
     "data": {
      "image/png": "[encoded data removed]",
      "text/plain": [
       "<Figure size 1000x600 with 1 Axes>"
      ]
     },
     "metadata": {},
     "output_type": "display_data"
    }
   ],
   "source": [
    "# Graph to visualize the data of average death rates of suicide by decade\n",
    "\n",
    "total_rates['DECADE'] = (total_rates['YEAR'] // 10) * 10\n",
    "decade_avg = total_rates.groupby('DECADE')['ESTIMATE'].mean().reset_index()\n",
    "\n",
    "plt.figure(figsize=(10, 6))\n",
    "bars = plt.bar(decade_avg['DECADE'], decade_avg['ESTIMATE'], width=8)\n",
    "\n",
    "# Add value labels\n",
    "for bar in bars:\n",
    "    height = bar.get_height()\n",
    "    plt.text(bar.get_x() + bar.get_width()/2., height, f'{height:.1f}', ha='center', va='bottom')\n",
    "\n",
    "plt.title('Average Suicide Rates by Decade (Age-Adjusted)')\n",
    "plt.xlabel('Decade')\n",
    "plt.ylabel('Deaths per 100,000')\n",
    "plt.xticks(decade_avg['DECADE'] + 5, decade_avg['DECADE'])  # Center labels\n",
    "plt.grid(axis='y', alpha=0.5)\n",
    "plt.tight_layout()\n",
    "plt.show()"
   ]
  },
  {
   "cell_type": "markdown",
   "id": "d7e8710f-4248-4468-8f88-ac042bf3f67a",
   "metadata": {},
   "source": [
    "# Implementations of 6 Questions to Answer"
   ]
  },
  {
   "cell_type": "code",
   "execution_count": 19,
   "id": "f7324f10",
   "metadata": {},
   "outputs": [
    {
     "name": "stdout",
     "output_type": "stream",
     "text": [
      "-The male suicide rate is: 22.8 per 100,000\n",
      "-The female suicide rate is: 6.2 per 100,000\n",
      "-The ratio is for 1 woman, there is: 3.68 men per 100,000\n"
     ]
    }
   ],
   "source": [
    "# QUESTION 1\n",
    "# How do suicide rates differ between males and females in the year 2018?\n",
    "\n",
    "# Filter for most recent year (2018) and age-adjusted rates\n",
    "recent = df[(df['YEAR'] == 2018) & (df['UNIT'] == 'Deaths per 100,000 resident population, age-adjusted')]\n",
    "\n",
    "# Get overall male and female rates (All Persons)\n",
    "male_rate = recent[recent['STUB_LABEL'] == 'Male']['ESTIMATE'].values[0]\n",
    "female_rate = recent[recent['STUB_LABEL'] == 'Female']['ESTIMATE'].values[0]\n",
    "\n",
    "# Calculate ratio\n",
    "ratio = male_rate / female_rate\n",
    "\n",
    "print('-The male suicide rate is:',male_rate,'per 100,000\\n-The female suicide rate is:',female_rate,'per 100,000\\n-The ratio is for 1 woman, there is:',ratio.round(2), 'men per 100,000')"
   ]
  },
  {
   "cell_type": "markdown",
   "id": "4f59cb81",
   "metadata": {},
   "source": [
    "# Question 1 Insights\n",
    "- The male suicide rate is nearly 4 times higher than females\n",
    "- While female rates have increased slightly since 2000 (from ~4 to 6.2), male rates have increased more sharply\n",
    "- The disparity has persisted for all 68 years in the dataset\n",
    "- RELEVANCY: This consistent pattern suggests biological, behavioral, and sociocultural factors all contribute to the sex disparity in suicide mortality."
   ]
  },
  {
   "cell_type": "code",
   "execution_count": 20,
   "id": "00db9f77",
   "metadata": {},
   "outputs": [
    {
     "name": "stdout",
     "output_type": "stream",
     "text": [
      "Overall highest suicide rate is in age group: 55-64 years (20.2 per 100,000)\n"
     ]
    }
   ],
   "source": [
    "# QUESTION 2\n",
    "# Which age group has the highest suicide rate?\n",
    "\n",
    "recent = df[(df['YEAR'] == 2018) & (df['UNIT'] == 'Deaths per 100,000 resident population, crude')]\n",
    "\n",
    "# Extract age groups from the data\n",
    "age_data = recent[recent['STUB_NAME'] == 'Age'].copy()\n",
    "age_data['Age Group'] = age_data['STUB_LABEL']\n",
    "\n",
    "# Find overall highest risk age group\n",
    "overall_max_age = age_data.loc[age_data['ESTIMATE'].idxmax(), 'Age Group']\n",
    "overall_max_rate = age_data['ESTIMATE'].max()\n",
    "\n",
    "print(f\"Overall highest suicide rate is in age group: {overall_max_age} ({overall_max_rate:.1f} per 100,000)\")"
   ]
  },
  {
   "cell_type": "markdown",
   "id": "89edb836",
   "metadata": {},
   "source": [
    "# Question 2 Insights\n",
    "- The death rates are significantly higher than the other age groups\n",
    "- This is expressed in white males more than any other demographic\n",
    "- RELEVANCY: This is most common within the white demographic and aligns with the previous question of which sex has increased death rates"
   ]
  },
  {
   "cell_type": "code",
   "execution_count": null,
   "id": "b1ea1875",
   "metadata": {},
   "outputs": [],
   "source": [
    "# QUESTION 3\n",
    "#"
   ]
  },
  {
   "cell_type": "markdown",
   "id": "d749f09b",
   "metadata": {},
   "source": [
    "# Question 3 Insights\n",
    "-\n",
    "-\n",
    "-"
   ]
  },
  {
   "cell_type": "code",
   "execution_count": null,
   "id": "3a740dba",
   "metadata": {},
   "outputs": [],
   "source": [
    "# Question 4\n",
    "# "
   ]
  },
  {
   "cell_type": "markdown",
   "id": "93977ad8",
   "metadata": {},
   "source": [
    "# Question 4 Insights\n",
    "-\n",
    "-\n",
    "-"
   ]
  },
  {
   "cell_type": "code",
   "execution_count": null,
   "id": "20d2d313",
   "metadata": {},
   "outputs": [],
   "source": [
    "# QUESTION 5\n",
    "# "
   ]
  },
  {
   "cell_type": "markdown",
   "id": "1608348b",
   "metadata": {},
   "source": [
    "# Question 5 Insights\n",
    "-\n",
    "-\n",
    "-"
   ]
  },
  {
   "cell_type": "code",
   "execution_count": null,
   "id": "1f2a9738",
   "metadata": {},
   "outputs": [],
   "source": [
    "# Question 6\n",
    "# "
   ]
  },
  {
   "cell_type": "markdown",
   "id": "a1b0425d",
   "metadata": {},
   "source": [
    "# Question 6 Insights\n",
    "-\n",
    "-\n",
    "-"
   ]
  }
 ],
 "metadata": {
  "kernelspec": {
   "display_name": "Python 3",
   "language": "python",
   "name": "python3"
  },
  "language_info": {
   "codemirror_mode": {
    "name": "ipython",
    "version": 3
   },
   "file_extension": ".py",
   "mimetype": "text/x-python",
   "name": "python",
   "nbconvert_exporter": "python",
   "pygments_lexer": "ipython3",
   "version": "3.12.1"
  }
 },
 "nbformat": 4,
 "nbformat_minor": 5
}
